{
 "cells": [
  {
   "cell_type": "code",
   "execution_count": 1,
   "metadata": {},
   "outputs": [],
   "source": [
    "# Read the file\n",
    "with open('data/apple-twitter-sentiment-texts.csv') as f:\n",
    "    lines = f.readlines()\n",
    "all_text = \"\".join(lines)"
   ]
  },
  {
   "cell_type": "code",
   "execution_count": 2,
   "metadata": {},
   "outputs": [
    {
     "name": "stdout",
     "output_type": "stream",
     "text": [
      "Total number of hashtags: 1616\n"
     ]
    }
   ],
   "source": [
    "# Use Regex to find all Hashtags, Determine the total number of hashtags\n",
    "import re\n",
    "hashtags = []\n",
    "hashtags.extend(re.findall(r'#\\w+', all_text))\n",
    "\n",
    "print('Total number of hashtags:', len(hashtags))"
   ]
  },
  {
   "cell_type": "code",
   "execution_count": 3,
   "metadata": {},
   "outputs": [
    {
     "name": "stdout",
     "output_type": "stream",
     "text": [
      "Top 10 hashtags:\n",
      "('#aapl', 400)\n",
      "('#apple', 162)\n",
      "('#iphone', 38)\n",
      "('#december', 37)\n",
      "('#iphone6', 29)\n",
      "('#stocks', 15)\n",
      "('#ipad', 14)\n",
      "('#iphone6plus', 13)\n",
      "('#iphone6s', 13)\n",
      "('#tech', 12)\n"
     ]
    }
   ],
   "source": [
    "# Determine the top 10 hashtags and their counts.\n",
    "counter = {}\n",
    "for hashtag in hashtags:\n",
    "    hashtag = hashtag.lower()\n",
    "    if hashtag in counter:\n",
    "        counter[hashtag] += 1\n",
    "    else:\n",
    "        counter[hashtag] = 1\n",
    "\n",
    "sorted_hashtags = sorted(counter.items(), key=lambda x: x[1], reverse=True)\n",
    "\n",
    "print('Top 10 hashtags:')\n",
    "for i in range(10):\n",
    "    print(sorted_hashtags[i])\n"
   ]
  }
 ],
 "metadata": {
  "kernelspec": {
   "display_name": "NLP-class",
   "language": "python",
   "name": "python3"
  },
  "language_info": {
   "codemirror_mode": {
    "name": "ipython",
    "version": 3
   },
   "file_extension": ".py",
   "mimetype": "text/x-python",
   "name": "python",
   "nbconvert_exporter": "python",
   "pygments_lexer": "ipython3",
   "version": "3.12.4"
  }
 },
 "nbformat": 4,
 "nbformat_minor": 2
}
