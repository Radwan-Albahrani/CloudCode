{
 "cells": [
  {
   "cell_type": "code",
   "execution_count": 1,
   "metadata": {},
   "outputs": [
    {
     "name": "stderr",
     "output_type": "stream",
     "text": [
      "/var/folders/md/mq14r15x32dbk_dp73cffn_40000gn/T/ipykernel_41231/2129040478.py:3: DtypeWarning: Columns (5) have mixed types. Specify dtype option on import or set low_memory=False.\n",
      "  df = pd.read_csv('data/data.csv', encoding='latin1')\n"
     ]
    }
   ],
   "source": [
    "# Load the data\n",
    "import pandas as pd\n",
    "df = pd.read_csv('data/tweets.csv', encoding='latin1')\n",
    "all_text = df[\"full_text\"].str.cat(sep='\\n')"
   ]
  },
  {
   "cell_type": "code",
   "execution_count": 2,
   "metadata": {},
   "outputs": [],
   "source": [
    "# cleaning up the data\n",
    "import re\n",
    "all_text = re.sub(r'[^\\x00-\\x7F]+', '', all_text)\n",
    "all_text = re.sub(r'#\\w+', '', all_text)\n",
    "all_text = re.sub(r'http\\S+', '', all_text)\n",
    "all_text = re.sub(r'@\\w+', '', all_text)\n",
    "all_text = re.sub(r'[^\\w\\s]', '', all_text)\n",
    "all_text = re.sub(r\"RT\", \"\", all_text)\n",
    "all_text = re.sub(r\" +\", \" \", all_text)\n",
    "all_text = re.sub(r\"\\n+\", \"\\n\", all_text)\n",
    "all_text = re.sub(r\"^\\s+\", \"\", all_text, flags=re.MULTILINE)\n",
    "all_text = all_text.lower()"
   ]
  },
  {
   "cell_type": "code",
   "execution_count": 3,
   "metadata": {},
   "outputs": [],
   "source": [
    "import nltk\n",
    "from nltk.lm import MLE\n",
    "from nltk.lm.preprocessing import padded_everygram_pipeline\n",
    "tokens = nltk.word_tokenize(all_text)\n",
    "# Train the model\n",
    "train_data, vocab = padded_everygram_pipeline(3, [tokens])\n",
    "model = MLE(3)\n",
    "model.fit(train_data, vocab)"
   ]
  },
  {
   "cell_type": "code",
   "execution_count": 4,
   "metadata": {},
   "outputs": [
    {
     "data": {
      "text/plain": [
       "12684"
      ]
     },
     "execution_count": 4,
     "metadata": {},
     "output_type": "execute_result"
    }
   ],
   "source": [
    "# count of unigram (pakistan)\n",
    "model.counts[\"pakistan\"]"
   ]
  },
  {
   "cell_type": "code",
   "execution_count": 5,
   "metadata": {},
   "outputs": [
    {
     "data": {
      "text/plain": [
       "705"
      ]
     },
     "execution_count": 5,
     "metadata": {},
     "output_type": "execute_result"
    }
   ],
   "source": [
    "# count for bigram (pakistan is)\n",
    "model.counts[[\"pakistan\"]][\"is\"]"
   ]
  },
  {
   "cell_type": "code",
   "execution_count": 6,
   "metadata": {},
   "outputs": [
    {
     "data": {
      "text/plain": [
       "69"
      ]
     },
     "execution_count": 6,
     "metadata": {},
     "output_type": "execute_result"
    }
   ],
   "source": [
    "# count for trigram (pakistan is a)\n",
    "model.counts[[\"pakistan\", \"is\"]][\"a\"]"
   ]
  },
  {
   "cell_type": "code",
   "execution_count": 7,
   "metadata": {},
   "outputs": [
    {
     "data": {
      "text/plain": [
       "0.0057857968813076885"
      ]
     },
     "execution_count": 7,
     "metadata": {},
     "output_type": "execute_result"
    }
   ],
   "source": [
    "# probability of pakistan given <s>\n",
    "model.score(\"pakistan\")"
   ]
  },
  {
   "cell_type": "code",
   "execution_count": 8,
   "metadata": {},
   "outputs": [
    {
     "data": {
      "text/plain": [
       "0.05558183538315989"
      ]
     },
     "execution_count": 8,
     "metadata": {},
     "output_type": "execute_result"
    }
   ],
   "source": [
    "# probability of is given pakistan\n",
    "model.score(\"is\", [\"pakistan\"])"
   ]
  },
  {
   "cell_type": "code",
   "execution_count": 9,
   "metadata": {},
   "outputs": [
    {
     "data": {
      "text/plain": [
       "0.09787234042553192"
      ]
     },
     "execution_count": 9,
     "metadata": {},
     "output_type": "execute_result"
    }
   ],
   "source": [
    "# probability of a given pakistan is\n",
    "model.score(\"a\", [\"pakistan\", \"is\"])"
   ]
  },
  {
   "cell_type": "code",
   "execution_count": 13,
   "metadata": {},
   "outputs": [
    {
     "data": {
      "text/plain": [
       "15.0117908466496"
      ]
     },
     "execution_count": 13,
     "metadata": {},
     "output_type": "execute_result"
    }
   ],
   "source": [
    "# perplexity of the model\n",
    "model.perplexity([(\"pakistan\", \"is\"), (\"is\", \"a\")])"
   ]
  }
 ],
 "metadata": {
  "kernelspec": {
   "display_name": "NLP-class",
   "language": "python",
   "name": "python3"
  },
  "language_info": {
   "codemirror_mode": {
    "name": "ipython",
    "version": 3
   },
   "file_extension": ".py",
   "mimetype": "text/x-python",
   "name": "python",
   "nbconvert_exporter": "python",
   "pygments_lexer": "ipython3",
   "version": "3.12.4"
  }
 },
 "nbformat": 4,
 "nbformat_minor": 2
}
