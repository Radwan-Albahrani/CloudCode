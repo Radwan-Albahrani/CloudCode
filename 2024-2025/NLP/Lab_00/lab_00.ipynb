{
 "cells": [
  {
   "cell_type": "code",
   "execution_count": 10,
   "metadata": {},
   "outputs": [
    {
     "name": "stdout",
     "output_type": "stream",
     "text": [
      "Tokenized: ['Some', 'text', 'that', 'we', 'need', 'to', 'do']\n",
      "Split: ['Some', 'text', 'that', 'we', 'need', 'to', 'do']\n"
     ]
    }
   ],
   "source": [
    "import nltk\n",
    "\n",
    "text = \"Some text that we need to do\"\n",
    "\n",
    "tokens = nltk.word_tokenize(text)\n",
    "\n",
    "text_split = text.split()\n",
    "\n",
    "print(f\"Tokenized: {tokens}\\nSplit: {text_split}\")"
   ]
  },
  {
   "cell_type": "code",
   "execution_count": null,
   "metadata": {},
   "outputs": [],
   "source": [
    "# To download if not found:\n",
    "nltk.download(\"all\")"
   ]
  },
  {
   "cell_type": "code",
   "execution_count": 9,
   "metadata": {},
   "outputs": [
    {
     "data": {
      "text/plain": [
       "['/Users/radwanalbahrani/nltk_data',\n",
       " '/Users/radwanalbahrani/.virtualenvs/NLP-class/nltk_data',\n",
       " '/Users/radwanalbahrani/.virtualenvs/NLP-class/share/nltk_data',\n",
       " '/Users/radwanalbahrani/.virtualenvs/NLP-class/lib/nltk_data',\n",
       " '/usr/share/nltk_data',\n",
       " '/usr/local/share/nltk_data',\n",
       " '/usr/lib/nltk_data',\n",
       " '/usr/local/lib/nltk_data']"
      ]
     },
     "execution_count": 9,
     "metadata": {},
     "output_type": "execute_result"
    }
   ],
   "source": [
    "# find the data path\n",
    "nltk.data.path"
   ]
  }
 ],
 "metadata": {
  "kernelspec": {
   "display_name": "NLP-class",
   "language": "python",
   "name": "python3"
  },
  "language_info": {
   "codemirror_mode": {
    "name": "ipython",
    "version": 3
   },
   "file_extension": ".py",
   "mimetype": "text/x-python",
   "name": "python",
   "nbconvert_exporter": "python",
   "pygments_lexer": "ipython3",
   "version": "3.12.4"
  }
 },
 "nbformat": 4,
 "nbformat_minor": 2
}
